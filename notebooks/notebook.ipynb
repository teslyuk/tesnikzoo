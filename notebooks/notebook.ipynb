{
 "cells": [
  {
   "cell_type": "code",
   "execution_count": 2,
   "metadata": {},
   "outputs": [],
   "source": [
    "import torch"
   ]
  },
  {
   "cell_type": "code",
   "execution_count": 8,
   "metadata": {},
   "outputs": [],
   "source": [
    "a = torch.randn((3, 3, 5))"
   ]
  },
  {
   "cell_type": "code",
   "execution_count": 10,
   "metadata": {},
   "outputs": [],
   "source": [
    "n_ctx = 2"
   ]
  },
  {
   "cell_type": "code",
   "execution_count": 11,
   "metadata": {},
   "outputs": [
    {
     "data": {
      "text/plain": [
       "torch.Size([3, 3, 5])"
      ]
     },
     "execution_count": 11,
     "metadata": {},
     "output_type": "execute_result"
    }
   ],
   "source": [
    "a.shape"
   ]
  },
  {
   "cell_type": "code",
   "execution_count": 12,
   "metadata": {},
   "outputs": [
    {
     "data": {
      "text/plain": [
       "torch.Size([2, 2, 5])"
      ]
     },
     "execution_count": 12,
     "metadata": {},
     "output_type": "execute_result"
    }
   ],
   "source": [
    "a[:n_ctx, :n_ctx].shape"
   ]
  },
  {
   "cell_type": "code",
   "execution_count": 16,
   "metadata": {},
   "outputs": [
    {
     "data": {
      "text/plain": [
       "tensor([[[-0.5036, -0.1320, -1.3116, -1.5275, -0.3795],\n",
       "         [-0.5244, -1.0037, -0.1743,  1.2905,  0.7652]],\n",
       "\n",
       "        [[-0.5430,  1.6787, -1.1454, -2.1873,  0.6502],\n",
       "         [-0.6094, -0.9351,  1.4348, -0.6439,  0.0450]]])"
      ]
     },
     "execution_count": 16,
     "metadata": {},
     "output_type": "execute_result"
    }
   ],
   "source": [
    "a[:n_ctx, :n_ctx, :]"
   ]
  },
  {
   "cell_type": "code",
   "execution_count": 17,
   "metadata": {},
   "outputs": [
    {
     "data": {
      "text/plain": [
       "tensor([[[-0.5036, -0.1320, -1.3116, -1.5275, -0.3795],\n",
       "         [-0.5244, -1.0037, -0.1743,  1.2905,  0.7652],\n",
       "         [ 0.8794, -1.7386,  0.1533,  0.3346,  0.6406]],\n",
       "\n",
       "        [[-0.5430,  1.6787, -1.1454, -2.1873,  0.6502],\n",
       "         [-0.6094, -0.9351,  1.4348, -0.6439,  0.0450],\n",
       "         [ 0.3636,  0.3091,  1.4966,  0.4438, -3.1744]],\n",
       "\n",
       "        [[ 0.6159,  1.9502, -0.2338,  1.6086,  0.0545],\n",
       "         [ 0.6662,  0.6184, -1.8124, -1.8917, -0.2861],\n",
       "         [ 1.5212, -0.9103,  1.5698, -1.2755, -0.1135]]])"
      ]
     },
     "execution_count": 17,
     "metadata": {},
     "output_type": "execute_result"
    }
   ],
   "source": [
    "a"
   ]
  },
  {
   "cell_type": "code",
   "execution_count": null,
   "metadata": {},
   "outputs": [],
   "source": []
  }
 ],
 "metadata": {
  "kernelspec": {
   "display_name": "venv39",
   "language": "python",
   "name": "python3"
  },
  "language_info": {
   "codemirror_mode": {
    "name": "ipython",
    "version": 3
   },
   "file_extension": ".py",
   "mimetype": "text/x-python",
   "name": "python",
   "nbconvert_exporter": "python",
   "pygments_lexer": "ipython3",
   "version": "3.9.16"
  },
  "orig_nbformat": 4
 },
 "nbformat": 4,
 "nbformat_minor": 2
}
